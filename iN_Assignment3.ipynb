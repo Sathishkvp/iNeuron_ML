{
 "cells": [
  {
   "cell_type": "markdown",
   "metadata": {},
   "source": [
    "# 1. User Derined Reduce and Filer Function"
   ]
  },
  {
   "cell_type": "code",
   "execution_count": 19,
   "metadata": {},
   "outputs": [
    {
     "name": "stdout",
     "output_type": "stream",
     "text": [
      "Sum of the given list [10,20,30] user defined reduce function is: 60\n",
      "Filter only positive Integers on list [0,1,-2,3,-4,5,-6,7] using custom filter function[0, 1, 3, 5, 7]\n"
     ]
    }
   ],
   "source": [
    "# Reduce returns a single result\n",
    "def myreduce(anyfunc, sequence):\n",
    "    result = sequence[0]\n",
    "    for item in sequence[1:]:\n",
    "        result = anyfunc(result, item)\n",
    "    return result\n",
    "\n",
    "def sum(x,y): return x + y\n",
    "    \n",
    "# Customized filter function \n",
    "def myfilter(anyfunc, sequence):\n",
    "    result = [0]\n",
    "    for item in sequence:\n",
    "        if anyfunc(item):\n",
    "            result.append(item)\n",
    "    return result\n",
    "\n",
    "    # test myfilter function\n",
    "def ispositive(x):\n",
    "    if (x <= 0):\n",
    "        return False\n",
    "    else:\n",
    "        return True\n",
    "\n",
    "print (\"Sum of the given list [10,20,30] user defined reduce function is: \"   + str(myreduce(sum, [10,20,30])) )\n",
    "print (\"Filter only positive Integers on list [0,1,-2,3,-4,5,-6,7] using custom filter function\"  + str(myfilter(ispositive, [0,1,-2,3,-4,5,-6,7])))"
   ]
  },
  {
   "cell_type": "markdown",
   "metadata": {},
   "source": [
    "# 2. Implement List comprehensions to produce the following lists."
   ]
  },
  {
   "cell_type": "code",
   "execution_count": 3,
   "metadata": {
    "scrolled": true
   },
   "outputs": [
    {
     "data": {
      "text/plain": [
       "['x', 'xx', 'xxx', 'xxxx', 'y', 'yy', 'yyy', 'yyyy', 'z', 'zz', 'zzz', 'zzzz']"
      ]
     },
     "execution_count": 3,
     "metadata": {},
     "output_type": "execute_result"
    }
   ],
   "source": [
    "#['x', 'xx', 'xxx', 'xxxx', 'y', 'yy', 'yyy', 'yyyy', 'z', 'zz', 'zzz', 'zzzz']\n",
    "str1 = [\"x\",\"y\",\"z\"]  \n",
    "str2 = [1,2,3,4]\n",
    "output = [x*y for x in str1 for y in str2]\n",
    "output"
   ]
  },
  {
   "cell_type": "code",
   "execution_count": 12,
   "metadata": {},
   "outputs": [
    {
     "data": {
      "text/plain": [
       "[[2], [3], [4], [3], [4], [5], [4], [5], [6]]"
      ]
     },
     "execution_count": 12,
     "metadata": {},
     "output_type": "execute_result"
    }
   ],
   "source": [
    "#[[2], [3], [4], [3], [4], [5], [4], [5], [6]]\n",
    "x = [2,3,4]\n",
    "outout = [[i+j] for i in x for j in range(0,3)  ]\n",
    "outout"
   ]
  },
  {
   "cell_type": "code",
   "execution_count": 15,
   "metadata": {},
   "outputs": [
    {
     "name": "stdout",
     "output_type": "stream",
     "text": [
      "[[2, 3, 4, 5], [3, 4, 5, 6], [4, 5, 6, 7], [5, 6, 7, 8]]\n"
     ]
    }
   ],
   "source": [
    "#[[2, 3, 4, 5], [3, 4, 5, 6], [4, 5, 6, 7], [5, 6, 7, 8]]\n",
    "x = [2,3,4,5]\n",
    "outout = [[i+j for i in x ]for j in range(0,4)  ]\n",
    "print(str(outout))"
   ]
  },
  {
   "cell_type": "code",
   "execution_count": null,
   "metadata": {},
   "outputs": [],
   "source": [
    "str1 = \"xyz\"  \n",
    "str2 = [1,2,3,4]\n",
    "output = [x*y for x in str2 for y in str1]\n",
    "output"
   ]
  },
  {
   "cell_type": "code",
   "execution_count": 16,
   "metadata": {},
   "outputs": [
    {
     "data": {
      "text/plain": [
       "[(1, 1), (2, 1), (3, 1), (1, 2), (2, 2), (3, 2), (1, 3), (2, 3), (3, 3)]"
      ]
     },
     "execution_count": 16,
     "metadata": {},
     "output_type": "execute_result"
    }
   ],
   "source": [
    "#[(1, 1), (2, 1), (3, 1), (1, 2), (2, 2), (3, 2), (1, 3), (2, 3), (3, 3)]\n",
    "str1 = [1,2,3]\n",
    "str2 = [1,2,3]\n",
    "li= [(y,x) for x in str1 for y in str2]\n",
    "list(li)"
   ]
  }
 ],
 "metadata": {
  "kernelspec": {
   "display_name": "Python 3",
   "language": "python",
   "name": "python3"
  },
  "language_info": {
   "codemirror_mode": {
    "name": "ipython",
    "version": 3
   },
   "file_extension": ".py",
   "mimetype": "text/x-python",
   "name": "python",
   "nbconvert_exporter": "python",
   "pygments_lexer": "ipython3",
   "version": "3.7.1"
  }
 },
 "nbformat": 4,
 "nbformat_minor": 2
}
